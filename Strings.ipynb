{
  "nbformat": 4,
  "nbformat_minor": 0,
  "metadata": {
    "colab": {
      "name": "Strings.ipynb",
      "provenance": [],
      "collapsed_sections": [],
      "authorship_tag": "ABX9TyMmgQHG+y63IYQCAs+h03ou",
      "include_colab_link": true
    },
    "kernelspec": {
      "name": "python3",
      "display_name": "Python 3"
    }
  },
  "cells": [
    {
      "cell_type": "markdown",
      "metadata": {
        "id": "view-in-github",
        "colab_type": "text"
      },
      "source": [
        "<a href=\"https://colab.research.google.com/github/jenisha00/Python-Basics/blob/master/Strings.ipynb\" target=\"_parent\"><img src=\"https://colab.research.google.com/assets/colab-badge.svg\" alt=\"Open In Colab\"/></a>"
      ]
    },
    {
      "cell_type": "code",
      "metadata": {
        "id": "w2O3Z69UkrgL",
        "colab_type": "code",
        "colab": {
          "base_uri": "https://localhost:8080/",
          "height": 53
        },
        "outputId": "0ee84bdf-2936-4092-c0f5-4ab0f97670bb"
      },
      "source": [
        "# getting a letter using index operator\n",
        "# index  always starts with 0\n",
        "name='Jenisha'\n",
        "print(name)\n",
        "print(name[0])"
      ],
      "execution_count": null,
      "outputs": [
        {
          "output_type": "stream",
          "text": [
            "Jenisha\n",
            "J\n"
          ],
          "name": "stdout"
        }
      ]
    },
    {
      "cell_type": "code",
      "metadata": {
        "id": "GERk66ldk1DG",
        "colab_type": "code",
        "colab": {
          "base_uri": "https://localhost:8080/",
          "height": 53
        },
        "outputId": "63d016aa-c2f5-4918-f35c-b6c826c678f7"
      },
      "source": [
        "# length of a string\n",
        "name = 'Jenisha'\n",
        "print(name)\n",
        "print(len(name))"
      ],
      "execution_count": null,
      "outputs": [
        {
          "output_type": "stream",
          "text": [
            "Jenisha\n",
            "7\n"
          ],
          "name": "stdout"
        }
      ]
    },
    {
      "cell_type": "code",
      "metadata": {
        "id": "MtPrIlBdmAWe",
        "colab_type": "code",
        "colab": {
          "base_uri": "https://localhost:8080/",
          "height": 125
        },
        "outputId": "25e33fbd-1717-45e1-88fa-59e7fa088944"
      },
      "source": [
        "# looping through string\n",
        "fruit = 'banana'\n",
        "for letter in fruit:\n",
        "  print(letter)"
      ],
      "execution_count": null,
      "outputs": [
        {
          "output_type": "stream",
          "text": [
            "b\n",
            "a\n",
            "n\n",
            "a\n",
            "n\n",
            "a\n"
          ],
          "name": "stdout"
        }
      ]
    },
    {
      "cell_type": "code",
      "metadata": {
        "id": "rh0d9yNbn0Rt",
        "colab_type": "code",
        "colab": {
          "base_uri": "https://localhost:8080/",
          "height": 143
        },
        "outputId": "315bc116-f8a0-4171-980e-7cc497761bb6"
      },
      "source": [
        "# Slicing Strings (uses index)\n",
        "name = \"Jenisha Munikar\"\n",
        "print(name[0:5])      # second number :5 is the number which means \"up to but not including\"\n",
        "print(name[0:11])\n",
        "print(name[8:9])\n",
        "print(name[8:20])     # if the second number is beyond the end of the string, it stops at the end of string\n",
        "print(name[:6])       # the first number is assumed to be beginning of string\n",
        "print(name[6:])       # the second number is assumed to be end of string\n",
        "print(name[:])        # the first and second number is assumed to be beginning and end"
      ],
      "execution_count": null,
      "outputs": [
        {
          "output_type": "stream",
          "text": [
            "Jenis\n",
            "Jenisha Mun\n",
            "M\n",
            "Munikar\n",
            "Jenish\n",
            "a Munikar\n",
            "Jenisha Munikar\n"
          ],
          "name": "stdout"
        }
      ]
    },
    {
      "cell_type": "code",
      "metadata": {
        "id": "5NYSFd-0EL51",
        "colab_type": "code",
        "colab": {
          "base_uri": "https://localhost:8080/",
          "height": 53
        },
        "outputId": "25c66de7-f897-476b-ee6e-dc0a5feaa9c1"
      },
      "source": [
        "# String Concatenation\n",
        "a = \"Hello\"\n",
        "b = \"World\"\n",
        "print(a + b)\n",
        "print(a + ' ' + b)"
      ],
      "execution_count": null,
      "outputs": [
        {
          "output_type": "stream",
          "text": [
            "HelloWorld\n",
            "Hello World\n"
          ],
          "name": "stdout"
        }
      ]
    },
    {
      "cell_type": "code",
      "metadata": {
        "id": "Wy75__jmVppM",
        "colab_type": "code",
        "colab": {
          "base_uri": "https://localhost:8080/",
          "height": 89
        },
        "outputId": "7d916f2e-7fb5-428e-c37e-f3ea19c25f33"
      },
      "source": [
        "# using in as logical operator\n",
        "fruit = 'banana'\n",
        "print('n' in fruit)\n",
        "print('c' in fruit)\n",
        "print('nan' in fruit)\n",
        "if('a' in fruit):\n",
        "  print('a found')"
      ],
      "execution_count": null,
      "outputs": [
        {
          "output_type": "stream",
          "text": [
            "True\n",
            "False\n",
            "True\n",
            "a found\n"
          ],
          "name": "stdout"
        }
      ]
    },
    {
      "cell_type": "code",
      "metadata": {
        "id": "LBgbz3NQWQBn",
        "colab_type": "code",
        "colab": {
          "base_uri": "https://localhost:8080/",
          "height": 53
        },
        "outputId": "bb314564-bef2-4978-a4aa-2f1209f2a689"
      },
      "source": [
        "# String Comparison\n",
        "word = input(\"Enter the word\")\n",
        "if(word < 'banana'):\n",
        "  print('Before Banana')\n",
        "elif(word > 'banana'):\n",
        "  print('After Banana')\n",
        "else:\n",
        "  print('Bananas')"
      ],
      "execution_count": null,
      "outputs": [
        {
          "output_type": "stream",
          "text": [
            "Enter the word Apple\n",
            "Before Banana\n"
          ],
          "name": "stdout"
        }
      ]
    },
    {
      "cell_type": "code",
      "metadata": {
        "id": "3tbvlq4Rce5u",
        "colab_type": "code",
        "colab": {
          "base_uri": "https://localhost:8080/",
          "height": 1000
        },
        "outputId": "288979ba-3ad6-4d4d-b93c-e7f95a08ce88"
      },
      "source": [
        "# String Library\n",
        "dir(str)"
      ],
      "execution_count": null,
      "outputs": [
        {
          "output_type": "execute_result",
          "data": {
            "text/plain": [
              "['__add__',\n",
              " '__class__',\n",
              " '__contains__',\n",
              " '__delattr__',\n",
              " '__dir__',\n",
              " '__doc__',\n",
              " '__eq__',\n",
              " '__format__',\n",
              " '__ge__',\n",
              " '__getattribute__',\n",
              " '__getitem__',\n",
              " '__getnewargs__',\n",
              " '__gt__',\n",
              " '__hash__',\n",
              " '__init__',\n",
              " '__init_subclass__',\n",
              " '__iter__',\n",
              " '__le__',\n",
              " '__len__',\n",
              " '__lt__',\n",
              " '__mod__',\n",
              " '__mul__',\n",
              " '__ne__',\n",
              " '__new__',\n",
              " '__reduce__',\n",
              " '__reduce_ex__',\n",
              " '__repr__',\n",
              " '__rmod__',\n",
              " '__rmul__',\n",
              " '__setattr__',\n",
              " '__sizeof__',\n",
              " '__str__',\n",
              " '__subclasshook__',\n",
              " 'capitalize',\n",
              " 'casefold',\n",
              " 'center',\n",
              " 'count',\n",
              " 'encode',\n",
              " 'endswith',\n",
              " 'expandtabs',\n",
              " 'find',\n",
              " 'format',\n",
              " 'format_map',\n",
              " 'index',\n",
              " 'isalnum',\n",
              " 'isalpha',\n",
              " 'isdecimal',\n",
              " 'isdigit',\n",
              " 'isidentifier',\n",
              " 'islower',\n",
              " 'isnumeric',\n",
              " 'isprintable',\n",
              " 'isspace',\n",
              " 'istitle',\n",
              " 'isupper',\n",
              " 'join',\n",
              " 'ljust',\n",
              " 'lower',\n",
              " 'lstrip',\n",
              " 'maketrans',\n",
              " 'partition',\n",
              " 'replace',\n",
              " 'rfind',\n",
              " 'rindex',\n",
              " 'rjust',\n",
              " 'rpartition',\n",
              " 'rsplit',\n",
              " 'rstrip',\n",
              " 'split',\n",
              " 'splitlines',\n",
              " 'startswith',\n",
              " 'strip',\n",
              " 'swapcase',\n",
              " 'title',\n",
              " 'translate',\n",
              " 'upper',\n",
              " 'zfill']"
            ]
          },
          "metadata": {
            "tags": []
          },
          "execution_count": 31
        }
      ]
    },
    {
      "cell_type": "code",
      "metadata": {
        "id": "Ld5UhUyjdWsO",
        "colab_type": "code",
        "colab": {
          "base_uri": "https://localhost:8080/",
          "height": 71
        },
        "outputId": "340aef4d-4f28-47a3-921f-eea5e0e27380"
      },
      "source": [
        "# Library : String upper and lower\n",
        "name = \"Jenisha\"\n",
        "print(name.lower())\n",
        "print(name.upper()) \n",
        "print('HeLLo WoRLd'.lower())"
      ],
      "execution_count": null,
      "outputs": [
        {
          "output_type": "stream",
          "text": [
            "jenisha\n",
            "JENISHA\n",
            "hello world\n"
          ],
          "name": "stdout"
        }
      ]
    },
    {
      "cell_type": "code",
      "metadata": {
        "id": "XbZCOgyHeNI2",
        "colab_type": "code",
        "colab": {
          "base_uri": "https://localhost:8080/",
          "height": 71
        },
        "outputId": "8742c164-4b08-4011-c3cd-f15356981f19"
      },
      "source": [
        "# Searching a string\n",
        "name = \"Jenisha\"\n",
        "print(name.find('h'))\n",
        "print(name.find('ni'))\n",
        "print(name.find('r'))"
      ],
      "execution_count": null,
      "outputs": [
        {
          "output_type": "stream",
          "text": [
            "5\n",
            "2\n",
            "-1\n"
          ],
          "name": "stdout"
        }
      ]
    },
    {
      "cell_type": "code",
      "metadata": {
        "id": "o-lwbcycevjf",
        "colab_type": "code",
        "colab": {
          "base_uri": "https://localhost:8080/",
          "height": 53
        },
        "outputId": "ca2b557c-1879-4328-a537-c7ead9e94e66"
      },
      "source": [
        "# String search and replace\n",
        "msg = \"Hello World\"\n",
        "print(msg.replace('o','x'))\n",
        "print(msg.replace('World','Everyone'))"
      ],
      "execution_count": null,
      "outputs": [
        {
          "output_type": "stream",
          "text": [
            "Hellx Wxrld\n",
            "Hello Everyone\n"
          ],
          "name": "stdout"
        }
      ]
    },
    {
      "cell_type": "code",
      "metadata": {
        "id": "EhClrUQbgCqQ",
        "colab_type": "code",
        "colab": {
          "base_uri": "https://localhost:8080/",
          "height": 71
        },
        "outputId": "400a5d9b-8751-450d-8618-83a700d56551"
      },
      "source": [
        "# Stripping whitespaces\n",
        "msg = \"   Hello World   \"\n",
        "print(msg.lstrip()) # removes left whitespaces\n",
        "print(msg.rstrip()) # removes right whitespaces\n",
        "print(msg.strip())  # removes both"
      ],
      "execution_count": null,
      "outputs": [
        {
          "output_type": "stream",
          "text": [
            "Hello World   \n",
            "   Hello World\n",
            "Hello World\n"
          ],
          "name": "stdout"
        }
      ]
    },
    {
      "cell_type": "code",
      "metadata": {
        "id": "JFYcM4Wbg98y",
        "colab_type": "code",
        "colab": {
          "base_uri": "https://localhost:8080/",
          "height": 71
        },
        "outputId": "3cc5920b-58a5-4f26-9efb-85d9a3c8a93c"
      },
      "source": [
        "# Prefixes\n",
        "msg = \"Hello World\"\n",
        "print(msg.startswith('Hello'))\n",
        "print(msg.startswith('H'))\n",
        "print(msg.startswith('h'))"
      ],
      "execution_count": null,
      "outputs": [
        {
          "output_type": "stream",
          "text": [
            "True\n",
            "True\n",
            "False\n"
          ],
          "name": "stdout"
        }
      ]
    }
  ]
}